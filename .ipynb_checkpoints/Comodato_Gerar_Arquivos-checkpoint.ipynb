{
 "cells": [
  {
   "cell_type": "markdown",
   "metadata": {},
   "source": [
    "# Automatic Excel"
   ]
  },
  {
   "cell_type": "markdown",
   "metadata": {},
   "source": [
    "This Python script has the intention to automate the creation of Excel files. The complete data was stored in the file 'some_file.xlsx.' Our goal here is to generate new Excel files from the original one. These files are generated based on different categories in the columns. The details of the items in the original file were omitted because they come from a private company.\n",
    "\n",
    "Este script em Python tem a intenção de automatizar a criação de arquivos Excel. Todos os dados foram armazenados no arquivo 'some_file.xlsx'. Nosso objetivo aqui é gerar novos arquivos de Excel a partir do original. Esses arquivos são gerados com base nas diferentes categorias das colunas. Os detalhes dos itens no arquivo original foram omitidos porque pertencem a uma empresa privada."
   ]
  },
  {
   "cell_type": "markdown",
   "metadata": {},
   "source": [
    "### IMPORTING LIBRARIES\n",
    "importando bibliotecas"
   ]
  },
  {
   "cell_type": "code",
   "execution_count": null,
   "metadata": {
    "id": "GjhyMW1u1RZX"
   },
   "outputs": [],
   "source": [
    "import pandas as pd\n",
    "import numpy as np"
   ]
  },
  {
   "cell_type": "markdown",
   "metadata": {},
   "source": [
    "### STORING THE ORIGINAL FILE IN A DATAFRAME\n",
    "armazenando o arquivo original em um DataFrame"
   ]
  },
  {
   "cell_type": "code",
   "execution_count": null,
   "metadata": {
    "id": "dtCeY7PE1fND"
   },
   "outputs": [],
   "source": [
    "df = pd.read_xcel('some_file.xlsx')\n",
    "df.head()"
   ]
  },
  {
   "cell_type": "markdown",
   "metadata": {},
   "source": [
    "### CREATING A NEW COLUMN 'Qtde' WITH ALL VALUES AS '1' AND REPOSITIONING IT\n",
    "criando uma nova coluna 'Qtde' com todos os valores iguais a '1' e resposiciona ela"
   ]
  },
  {
   "cell_type": "code",
   "execution_count": null,
   "metadata": {
    "id": "eYMlSPYPAI7-"
   },
   "outputs": [],
   "source": [
    "new_column = pd.Series(1, index=df.index, name='Qtde')\n",
    "\n",
    "df = pd.concat([df, new_column], axis=1)\n",
    "\n",
    "column_Quantidade = df.pop('Qtde')\n",
    "\n",
    "df.insert(2, 'Qtde', column_Quantidade)"
   ]
  },
  {
   "cell_type": "markdown",
   "metadata": {},
   "source": [
    "### FINDING THE UNIQUE VALUES IN THE COLUMNS Polo AND LAB AND STORING IN THE LISTS polos AND labs\n",
    "encontrando os valores únicos nas colunas Polo e LAB e armazenando nas listas polos e labs"
   ]
  },
  {
   "cell_type": "code",
   "execution_count": null,
   "metadata": {
    "id": "g95jACP31xgj"
   },
   "outputs": [],
   "source": [
    "polos = np.sort(df['Polo'].unique())\n",
    "labs = df['LAB'].unique()"
   ]
  },
  {
   "cell_type": "markdown",
   "metadata": {
    "id": "J8MxD0IUJivW"
   },
   "source": [
    "### Deleting the files in the folder.\n",
    "Here, we delete all the files in a specified folder to ensure that every time we execute the script, no unwanted remnant files remain after the file generation process.\n",
    "\n",
    "### Excluindo os arquivos na pasta.\n",
    "Aqui, excluímos todos os arquivos em uma pasta especificada para garantir que toda vez que executamos o script, nenhum arquivo indesejado permaneça após a geração dos arquivos."
   ]
  },
  {
   "cell_type": "code",
   "execution_count": null,
   "metadata": {
    "id": "OHBZO0t2WGqG"
   },
   "outputs": [],
   "source": [
    "import os\n",
    "\n",
    "# Specify the path of the folder that contains the files you want to delete\n",
    "# Especifique o caminho da pasta que contém os arquivos que você deseja excluir\n",
    "folder_path = '/somewhere/somewhere2'\n",
    "\n",
    "# Store all files in the folder in a list\n",
    "# guarde todos os arquivos na pasta em uma lista\n",
    "folder_files = os.listdir(folder_path)\n",
    "\n",
    "# Iterate over the files and delete them\n",
    "# Itere sobre os arquivos e exclua-os\n",
    "for file in folder_files:\n",
    "    file_path = os.path.join(folder_path, file)\n",
    "    try:\n",
    "        if os.path.isfile(file_path):\n",
    "            os.remove(file_path)\n",
    "            print(f\"File {file} Successfully removed.\")\n",
    "    except Exception as e:\n",
    "        print(f\"Error while removing the file {file}: {str(e)}\")"
   ]
  },
  {
   "cell_type": "markdown",
   "metadata": {
    "id": "CIn8VsXTJvFW"
   },
   "source": [
    "### Generating the files\n",
    "In this part of the code, we generate Excel files. Each new file will be named after one of the unique values in the Polo column (polos list). Additionally, each file will have multiple sheets named after one of the unique values in the LAB column (labs list). Finally, the tables in each sheet of each file are the remaining DataFrames when we filter the Polo and LAB columns by their unique values.\n",
    "\n",
    "\n",
    "### Gerando os arquivos\n",
    "Nesta parte do código, geramos os arquivos de Excel. Cada novo arquivo será nomeado por um dos valores únicos da coluna Polo (lista polos). Além disso, cada arquivo terá várias planilhas nomeadas por um dos valores únicos da coluna LAB (lista labs). Por fim, as tabelas em cada planilha de cada arquivo são os DataFrames remanescentes quando filtramos a coluna Polo e LAB pelos seus valores únicos."
   ]
  },
  {
   "cell_type": "code",
   "execution_count": null,
   "metadata": {
    "id": "ZmAj3KMb46Wf"
   },
   "outputs": [],
   "source": [
    "# !pip install xlsxwriter if necessary\n",
    "# !pip install xlsxwriter se necessário\n",
    "\n",
    "# header\n",
    "# cabeçalho\n",
    "cabecalho = 'What you want'\n",
    "\n",
    "\n",
    "# Iterate over the intens in list polos\n",
    "# Itere sobre os itens da lista polos\n",
    "for i in polos:\n",
    "    \n",
    "    # Define a DataFrame fintering the original one column Polo by the item i of the list polos\n",
    "    # Defina um DataFrame filtrando o original pela coluna Polo usando o item i da lista polos.\n",
    "    a = df.loc[df['Polo'] == i]\n",
    "    \n",
    "    # Removing unwanted parts of the name of item i from the polos list\n",
    "    # Removendo partes indesejadas do nome do item i da lista de polos\n",
    "    aux = i.replace(\" - \", \"-\")\n",
    "    aux = aux.replace(\" \",\"_\")\n",
    "\n",
    "    # Creating the file path and its name using the varible aux\n",
    "    # Criando o caminho do arquivo e seu nome usando a variável aux\n",
    "    caminho_do_arquivo = f'/content/Arquivos_Comodato/{aux}.xlsx'\n",
    "    \n",
    "    # Transforming the DataFrame into an Excel file with the file name created in the previous step\n",
    "    # Transformando o DataFrame a num excel com o nome de arquivo criado no passo anterior\n",
    "    a.to_excel(caminho_do_arquivo, index=False)\n",
    "    \n",
    "\n",
    "    # Now we will use ExcelWriter to create the various sheets in the Excel files\n",
    "    # Agora vamos usar o ExcelWriter para criar as várias planilhas dos arquivos em excel\n",
    "    \n",
    "    # Accessing the created file and definig as writer\n",
    "    # Acessando o arquivo criado e definindo como writer\n",
    "    with pd.ExcelWriter(caminho_do_arquivo, engine='xlsxwriter') as writer:\n",
    "\n",
    "        # Finding the unique values in the LAB column of the already filtered DataFrame a\n",
    "        # Encontrando os valores unicos a coluna LAB do DataFrame já filtrado a\n",
    "        cursos_unicos = a['LAB'].unique()\n",
    "\n",
    "        \n",
    "        # Iterating over the values of the cursos_unicos list and creating a sheet for each one\n",
    "        # Iterando sobre os valores da lista cursos_unicos e criando uma planilha para cada um\n",
    "        for j in cursos_unicos:\n",
    "            df_curso = a.loc[a['LAB'] == j]\n",
    "            df_curso.to_excel(writer, sheet_name = j, startrow = 2, index = False)\n",
    "\n",
    "            # writer.sheets[j].write(0, 0, cabecalho) #colocando cabeçalho\n",
    "            # Mescle as células para o cabeçalho e centralize\n",
    "\n",
    "            mescla = f\"A1:{chr(a.shape[1] + ord('A') - 1)}1\"\n",
    "\n",
    "            worksheet = writer.sheets[j]\n",
    "            header_format = writer.book.add_format({'bold': True, 'align': 'center', 'valign': 'vcenter'})\n",
    "            worksheet.merge_range(mescla, cabecalho, header_format)\n"
   ]
  },
  {
   "cell_type": "code",
   "execution_count": null,
   "metadata": {
    "id": "okfWHT9YFU-g"
   },
   "outputs": [],
   "source": [
    "from zipfile import ZipFile\n",
    "\n",
    "# Especifique o caminho da pasta que contém os arquivos Excel\n",
    "caminho_da_pasta = '/content/Arquivos_Comodato'\n",
    "\n",
    "# Especifique o caminho do arquivo zip que será gerado\n",
    "caminho_do_zip = '/content/arquivos.zip'\n",
    "\n",
    "# Lista todos os arquivos na pasta\n",
    "arquivos_na_pasta = os.listdir(caminho_da_pasta)\n",
    "\n",
    "# Inicializa o objeto ZipFile para escrever no arquivo zip\n",
    "with ZipFile(caminho_do_zip, 'w') as zipf:\n",
    "    # Itera sobre os arquivos na pasta\n",
    "    for arquivo in arquivos_na_pasta:\n",
    "        # Verifica se o arquivo é um arquivo Excel (pode ajustar para outros formatos)\n",
    "        if arquivo.endswith('.xlsx'):\n",
    "            # Caminho completo do arquivo\n",
    "            caminho_completo = os.path.join(caminho_da_pasta, arquivo)\n",
    "            # Adiciona o arquivo ao arquivo zip, usando o nome original do arquivo\n",
    "            zipf.write(caminho_completo, os.path.basename(caminho_completo))"
   ]
  }
 ],
 "metadata": {
  "colab": {
   "provenance": []
  },
  "kernelspec": {
   "display_name": "Python 3 (ipykernel)",
   "language": "python",
   "name": "python3"
  },
  "language_info": {
   "codemirror_mode": {
    "name": "ipython",
    "version": 3
   },
   "file_extension": ".py",
   "mimetype": "text/x-python",
   "name": "python",
   "nbconvert_exporter": "python",
   "pygments_lexer": "ipython3",
   "version": "3.9.13"
  }
 },
 "nbformat": 4,
 "nbformat_minor": 1
}
